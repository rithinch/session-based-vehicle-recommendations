{
 "cells": [
  {
   "cell_type": "code",
   "execution_count": 1,
   "metadata": {},
   "outputs": [],
   "source": [
    "import azureml.dataprep as dprep\n",
    "import pandas as pd\n",
    "import matplotlib.pyplot as plt"
   ]
  },
  {
   "cell_type": "code",
   "execution_count": 2,
   "metadata": {},
   "outputs": [],
   "source": [
    "clicks_df = pd.read_csv(\"../clicks_raw.csv\")"
   ]
  },
  {
   "cell_type": "code",
   "execution_count": 3,
   "metadata": {},
   "outputs": [
    {
     "data": {
      "text/html": [
       "<div>\n",
       "<style scoped>\n",
       "    .dataframe tbody tr th:only-of-type {\n",
       "        vertical-align: middle;\n",
       "    }\n",
       "\n",
       "    .dataframe tbody tr th {\n",
       "        vertical-align: top;\n",
       "    }\n",
       "\n",
       "    .dataframe thead th {\n",
       "        text-align: right;\n",
       "    }\n",
       "</style>\n",
       "<table border=\"1\" class=\"dataframe\">\n",
       "  <thead>\n",
       "    <tr style=\"text-align: right;\">\n",
       "      <th></th>\n",
       "      <th>Client ID</th>\n",
       "      <th>Session ID</th>\n",
       "      <th>Page</th>\n",
       "      <th>Hour of Day</th>\n",
       "      <th>Minute</th>\n",
       "      <th>Users</th>\n",
       "      <th>reg_no</th>\n",
       "      <th>make</th>\n",
       "      <th>model</th>\n",
       "      <th>fuel</th>\n",
       "      <th>colour</th>\n",
       "      <th>body</th>\n",
       "      <th>trasmission</th>\n",
       "    </tr>\n",
       "  </thead>\n",
       "  <tbody>\n",
       "    <tr>\n",
       "      <th>0</th>\n",
       "      <td>1.000010e+09</td>\n",
       "      <td>1552164105110.tu20xgmk</td>\n",
       "      <td>/search/bmw/1-series/manual-diesel-white-hatch...</td>\n",
       "      <td>2019030920</td>\n",
       "      <td>41</td>\n",
       "      <td>1</td>\n",
       "      <td>vk65kzw</td>\n",
       "      <td>bmw</td>\n",
       "      <td>1-series</td>\n",
       "      <td>diesel</td>\n",
       "      <td>white</td>\n",
       "      <td>hatchback</td>\n",
       "      <td>manual</td>\n",
       "    </tr>\n",
       "    <tr>\n",
       "      <th>1</th>\n",
       "      <td>1.000020e+09</td>\n",
       "      <td>1551548659573.la303ik</td>\n",
       "      <td>/search/alfa-romeo/giulietta/manual-diesel-bla...</td>\n",
       "      <td>2019030217</td>\n",
       "      <td>43</td>\n",
       "      <td>1</td>\n",
       "      <td>st63cxf</td>\n",
       "      <td>alfa-romeo</td>\n",
       "      <td>giulietta</td>\n",
       "      <td>diesel</td>\n",
       "      <td>black</td>\n",
       "      <td>hatchback</td>\n",
       "      <td>manual</td>\n",
       "    </tr>\n",
       "    <tr>\n",
       "      <th>2</th>\n",
       "      <td>1.000020e+09</td>\n",
       "      <td>1551548659573.la303ik</td>\n",
       "      <td>/search/alfa-romeo/giulietta/manual-diesel-bla...</td>\n",
       "      <td>2019030217</td>\n",
       "      <td>44</td>\n",
       "      <td>1</td>\n",
       "      <td>st63cxf</td>\n",
       "      <td>alfa-romeo</td>\n",
       "      <td>giulietta</td>\n",
       "      <td>diesel</td>\n",
       "      <td>black</td>\n",
       "      <td>hatchback</td>\n",
       "      <td>manual</td>\n",
       "    </tr>\n",
       "    <tr>\n",
       "      <th>3</th>\n",
       "      <td>1.000024e+08</td>\n",
       "      <td>1553512749300.yqecw34</td>\n",
       "      <td>/search/mini/countryman/automatic-diesel-silve...</td>\n",
       "      <td>2019032511</td>\n",
       "      <td>19</td>\n",
       "      <td>1</td>\n",
       "      <td>wr14uju</td>\n",
       "      <td>mini</td>\n",
       "      <td>countryman</td>\n",
       "      <td>diesel</td>\n",
       "      <td>silver</td>\n",
       "      <td>hatchback</td>\n",
       "      <td>automatic</td>\n",
       "    </tr>\n",
       "    <tr>\n",
       "      <th>4</th>\n",
       "      <td>1.000026e+09</td>\n",
       "      <td>1551459467897.sc8ayc9g</td>\n",
       "      <td>/search/renault/megane/manual-diesel-orange-co...</td>\n",
       "      <td>2019030116</td>\n",
       "      <td>57</td>\n",
       "      <td>1</td>\n",
       "      <td>hn09guj</td>\n",
       "      <td>renault</td>\n",
       "      <td>megane</td>\n",
       "      <td>diesel</td>\n",
       "      <td>orange</td>\n",
       "      <td>coupe</td>\n",
       "      <td>manual</td>\n",
       "    </tr>\n",
       "  </tbody>\n",
       "</table>\n",
       "</div>"
      ],
      "text/plain": [
       "      Client ID              Session ID  \\\n",
       "0  1.000010e+09  1552164105110.tu20xgmk   \n",
       "1  1.000020e+09   1551548659573.la303ik   \n",
       "2  1.000020e+09   1551548659573.la303ik   \n",
       "3  1.000024e+08   1553512749300.yqecw34   \n",
       "4  1.000026e+09  1551459467897.sc8ayc9g   \n",
       "\n",
       "                                                Page  Hour of Day  Minute  \\\n",
       "0  /search/bmw/1-series/manual-diesel-white-hatch...   2019030920      41   \n",
       "1  /search/alfa-romeo/giulietta/manual-diesel-bla...   2019030217      43   \n",
       "2  /search/alfa-romeo/giulietta/manual-diesel-bla...   2019030217      44   \n",
       "3  /search/mini/countryman/automatic-diesel-silve...   2019032511      19   \n",
       "4  /search/renault/megane/manual-diesel-orange-co...   2019030116      57   \n",
       "\n",
       "   Users   reg_no        make       model    fuel  colour       body  \\\n",
       "0      1  vk65kzw         bmw    1-series  diesel   white  hatchback   \n",
       "1      1  st63cxf  alfa-romeo   giulietta  diesel   black  hatchback   \n",
       "2      1  st63cxf  alfa-romeo   giulietta  diesel   black  hatchback   \n",
       "3      1  wr14uju        mini  countryman  diesel  silver  hatchback   \n",
       "4      1  hn09guj     renault      megane  diesel  orange      coupe   \n",
       "\n",
       "  trasmission  \n",
       "0      manual  \n",
       "1      manual  \n",
       "2      manual  \n",
       "3   automatic  \n",
       "4      manual  "
      ]
     },
     "execution_count": 3,
     "metadata": {},
     "output_type": "execute_result"
    }
   ],
   "source": [
    "clicks_df.head()"
   ]
  },
  {
   "cell_type": "code",
   "execution_count": 4,
   "metadata": {},
   "outputs": [
    {
     "data": {
      "text/plain": [
       "999999"
      ]
     },
     "execution_count": 4,
     "metadata": {},
     "output_type": "execute_result"
    }
   ],
   "source": [
    "len(clicks_df) #Total Clicks"
   ]
  },
  {
   "cell_type": "code",
   "execution_count": 5,
   "metadata": {},
   "outputs": [
    {
     "data": {
      "text/plain": [
       "Client ID           0\n",
       "Session ID          0\n",
       "Page                0\n",
       "Hour of Day         0\n",
       "Minute              0\n",
       "Users               0\n",
       "reg_no         285687\n",
       "make           265476\n",
       "model          265139\n",
       "fuel           285687\n",
       "colour         285687\n",
       "body           285687\n",
       "trasmission    285350\n",
       "dtype: int64"
      ]
     },
     "execution_count": 5,
     "metadata": {},
     "output_type": "execute_result"
    }
   ],
   "source": [
    "clicks_df.isna().sum() #All Null Values"
   ]
  },
  {
   "cell_type": "code",
   "execution_count": 6,
   "metadata": {},
   "outputs": [],
   "source": [
    "clicks_df = clicks_df.dropna()"
   ]
  },
  {
   "cell_type": "code",
   "execution_count": 7,
   "metadata": {},
   "outputs": [
    {
     "data": {
      "text/plain": [
       "Client ID      0\n",
       "Session ID     0\n",
       "Page           0\n",
       "Hour of Day    0\n",
       "Minute         0\n",
       "Users          0\n",
       "reg_no         0\n",
       "make           0\n",
       "model          0\n",
       "fuel           0\n",
       "colour         0\n",
       "body           0\n",
       "trasmission    0\n",
       "dtype: int64"
      ]
     },
     "execution_count": 7,
     "metadata": {},
     "output_type": "execute_result"
    }
   ],
   "source": [
    "clicks_df.isna().sum() #All Null Values"
   ]
  },
  {
   "cell_type": "code",
   "execution_count": 8,
   "metadata": {},
   "outputs": [
    {
     "name": "stdout",
     "output_type": "stream",
     "text": [
      "714312\n"
     ]
    }
   ],
   "source": [
    "print(len(clicks_df)) #After removing null values"
   ]
  },
  {
   "cell_type": "code",
   "execution_count": 9,
   "metadata": {},
   "outputs": [
    {
     "data": {
      "text/plain": [
       "8222"
      ]
     },
     "execution_count": 9,
     "metadata": {},
     "output_type": "execute_result"
    }
   ],
   "source": [
    "clicks_df[\"reg_no\"].nunique() #Unique Cars Seen"
   ]
  },
  {
   "cell_type": "code",
   "execution_count": 10,
   "metadata": {},
   "outputs": [
    {
     "data": {
      "text/plain": [
       "216583"
      ]
     },
     "execution_count": 10,
     "metadata": {},
     "output_type": "execute_result"
    }
   ],
   "source": [
    "clicks_df[\"Session ID\"].nunique() #Unique Sessions"
   ]
  },
  {
   "cell_type": "code",
   "execution_count": 11,
   "metadata": {},
   "outputs": [
    {
     "data": {
      "text/plain": [
       "112462"
      ]
     },
     "execution_count": 11,
     "metadata": {},
     "output_type": "execute_result"
    }
   ],
   "source": [
    "clicks_df[\"Client ID\"].nunique() #Unique Users"
   ]
  },
  {
   "cell_type": "code",
   "execution_count": 12,
   "metadata": {},
   "outputs": [
    {
     "name": "stdout",
     "output_type": "stream",
     "text": [
      "                         count\n",
      "Session ID                    \n",
      "1549021232635.0ek1mrkt       4\n",
      "1551110299524.p1wxhlm8       4\n",
      "1551398428155.0rj029         1\n",
      "1551398441283.yszvuzqp       2\n",
      "1551398443954.0ff7clwtt      1\n"
     ]
    }
   ],
   "source": [
    "grouped = clicks_df.groupby('Session ID')['Page'].agg([\"count\"])\n",
    "print(grouped.head())"
   ]
  },
  {
   "cell_type": "code",
   "execution_count": 13,
   "metadata": {},
   "outputs": [
    {
     "name": "stdout",
     "output_type": "stream",
     "text": [
      " Sessions with greater than 1 click and less than 30 clicks = 129938\n",
      " Sessions with only 1 click or more than 30 = 86645\n"
     ]
    }
   ],
   "source": [
    "filtered = grouped.query('count>1')\n",
    "\n",
    "x = len(filtered)\n",
    "\n",
    "print(f\" Sessions with greater than 1 click and less than 30 clicks = {x}\")\n",
    "print(f\" Sessions with only 1 click or more than 30 = {len(grouped)-x}\")"
   ]
  },
  {
   "cell_type": "code",
   "execution_count": 14,
   "metadata": {},
   "outputs": [
    {
     "name": "stdout",
     "output_type": "stream",
     "text": [
      " Total clicks after filtering = 627667\n"
     ]
    }
   ],
   "source": [
    "total_clicks = filtered['count'].sum()\n",
    "print(f\" Total clicks after filtering = {total_clicks}\")"
   ]
  },
  {
   "cell_type": "code",
   "execution_count": 15,
   "metadata": {},
   "outputs": [
    {
     "name": "stdout",
     "output_type": "stream",
     "text": [
      " Average clicks per session = 4.83051147470332\n"
     ]
    }
   ],
   "source": [
    "average_clicks = filtered['count'].mean()\n",
    "print(f\" Average clicks per session = {average_clicks}\")"
   ]
  },
  {
   "cell_type": "code",
   "execution_count": 16,
   "metadata": {},
   "outputs": [
    {
     "name": "stdout",
     "output_type": "stream",
     "text": [
      "Max clicks per session = 232\n",
      "Min clicks per session = 2\n"
     ]
    }
   ],
   "source": [
    "max_clicks = filtered['count'].max()\n",
    "min_clicks = filtered['count'].min()\n",
    "print(f\"Max clicks per session = {max_clicks}\")\n",
    "print(f\"Min clicks per session = {min_clicks}\")"
   ]
  },
  {
   "cell_type": "code",
   "execution_count": 17,
   "metadata": {},
   "outputs": [
    {
     "data": {
      "text/html": [
       "<div>\n",
       "<style scoped>\n",
       "    .dataframe tbody tr th:only-of-type {\n",
       "        vertical-align: middle;\n",
       "    }\n",
       "\n",
       "    .dataframe tbody tr th {\n",
       "        vertical-align: top;\n",
       "    }\n",
       "\n",
       "    .dataframe thead th {\n",
       "        text-align: right;\n",
       "    }\n",
       "</style>\n",
       "<table border=\"1\" class=\"dataframe\">\n",
       "  <thead>\n",
       "    <tr style=\"text-align: right;\">\n",
       "      <th></th>\n",
       "      <th>count</th>\n",
       "    </tr>\n",
       "    <tr>\n",
       "      <th>Session ID</th>\n",
       "      <th></th>\n",
       "    </tr>\n",
       "  </thead>\n",
       "  <tbody>\n",
       "    <tr>\n",
       "      <th>1552950052387.y70a9a5</th>\n",
       "      <td>232</td>\n",
       "    </tr>\n",
       "    <tr>\n",
       "      <th>1551914799441.oq43r0m7</th>\n",
       "      <td>202</td>\n",
       "    </tr>\n",
       "    <tr>\n",
       "      <th>1551789685802.f07vfebdm</th>\n",
       "      <td>177</td>\n",
       "    </tr>\n",
       "    <tr>\n",
       "      <th>1551807718653.vsinu0qn</th>\n",
       "      <td>167</td>\n",
       "    </tr>\n",
       "    <tr>\n",
       "      <th>1553385024494.trro5t6u</th>\n",
       "      <td>140</td>\n",
       "    </tr>\n",
       "  </tbody>\n",
       "</table>\n",
       "</div>"
      ],
      "text/plain": [
       "                         count\n",
       "Session ID                    \n",
       "1552950052387.y70a9a5      232\n",
       "1551914799441.oq43r0m7     202\n",
       "1551789685802.f07vfebdm    177\n",
       "1551807718653.vsinu0qn     167\n",
       "1553385024494.trro5t6u     140"
      ]
     },
     "execution_count": 17,
     "metadata": {},
     "output_type": "execute_result"
    }
   ],
   "source": [
    "filtered.sort_values(by='count', ascending=False).head()"
   ]
  },
  {
   "cell_type": "code",
   "execution_count": 18,
   "metadata": {},
   "outputs": [
    {
     "data": {
      "text/plain": [
       "<matplotlib.axes._subplots.AxesSubplot at 0x25d63d193c8>"
      ]
     },
     "execution_count": 18,
     "metadata": {},
     "output_type": "execute_result"
    },
    {
     "data": {
      "image/png": "[encoded data removed]",
      "text/plain": [
       "<Figure size 432x288 with 1 Axes>"
      ]
     },
     "metadata": {
      "needs_background": "light"
     },
     "output_type": "display_data"
    }
   ],
   "source": [
    "filtered.plot.hist(bins=15, alpha=0.5) #Clicks per session frequency"
   ]
  },
  {
   "cell_type": "code",
   "execution_count": 19,
   "metadata": {},
   "outputs": [
    {
     "data": {
      "text/html": [
       "<div>\n",
       "<style scoped>\n",
       "    .dataframe tbody tr th:only-of-type {\n",
       "        vertical-align: middle;\n",
       "    }\n",
       "\n",
       "    .dataframe tbody tr th {\n",
       "        vertical-align: top;\n",
       "    }\n",
       "\n",
       "    .dataframe thead th {\n",
       "        text-align: right;\n",
       "    }\n",
       "</style>\n",
       "<table border=\"1\" class=\"dataframe\">\n",
       "  <thead>\n",
       "    <tr style=\"text-align: right;\">\n",
       "      <th></th>\n",
       "      <th>Client ID</th>\n",
       "      <th>Session ID</th>\n",
       "      <th>Page</th>\n",
       "      <th>Hour of Day</th>\n",
       "      <th>Minute</th>\n",
       "      <th>Users</th>\n",
       "      <th>reg_no</th>\n",
       "      <th>make</th>\n",
       "      <th>model</th>\n",
       "      <th>fuel</th>\n",
       "      <th>colour</th>\n",
       "      <th>body</th>\n",
       "      <th>trasmission</th>\n",
       "      <th>count</th>\n",
       "    </tr>\n",
       "  </thead>\n",
       "  <tbody>\n",
       "    <tr>\n",
       "      <th>0</th>\n",
       "      <td>1.000020e+09</td>\n",
       "      <td>1551548659573.la303ik</td>\n",
       "      <td>/search/alfa-romeo/giulietta/manual-diesel-bla...</td>\n",
       "      <td>2019030217</td>\n",
       "      <td>43</td>\n",
       "      <td>1</td>\n",
       "      <td>st63cxf</td>\n",
       "      <td>alfa-romeo</td>\n",
       "      <td>giulietta</td>\n",
       "      <td>diesel</td>\n",
       "      <td>black</td>\n",
       "      <td>hatchback</td>\n",
       "      <td>manual</td>\n",
       "      <td>2</td>\n",
       "    </tr>\n",
       "    <tr>\n",
       "      <th>1</th>\n",
       "      <td>1.000020e+09</td>\n",
       "      <td>1551548659573.la303ik</td>\n",
       "      <td>/search/alfa-romeo/giulietta/manual-diesel-bla...</td>\n",
       "      <td>2019030217</td>\n",
       "      <td>44</td>\n",
       "      <td>1</td>\n",
       "      <td>st63cxf</td>\n",
       "      <td>alfa-romeo</td>\n",
       "      <td>giulietta</td>\n",
       "      <td>diesel</td>\n",
       "      <td>black</td>\n",
       "      <td>hatchback</td>\n",
       "      <td>manual</td>\n",
       "      <td>2</td>\n",
       "    </tr>\n",
       "    <tr>\n",
       "      <th>2</th>\n",
       "      <td>1.000026e+08</td>\n",
       "      <td>1553267404527.4nell1ve</td>\n",
       "      <td>/search/ford/focus/manual-petrol-white-hatchba...</td>\n",
       "      <td>2019032215</td>\n",
       "      <td>10</td>\n",
       "      <td>1</td>\n",
       "      <td>bt62axz</td>\n",
       "      <td>ford</td>\n",
       "      <td>focus</td>\n",
       "      <td>petrol</td>\n",
       "      <td>white</td>\n",
       "      <td>hatchback</td>\n",
       "      <td>manual</td>\n",
       "      <td>2</td>\n",
       "    </tr>\n",
       "    <tr>\n",
       "      <th>3</th>\n",
       "      <td>1.000026e+08</td>\n",
       "      <td>1553267404527.4nell1ve</td>\n",
       "      <td>/search/vauxhall/astra/manual-diesel-silver-ha...</td>\n",
       "      <td>2019032215</td>\n",
       "      <td>7</td>\n",
       "      <td>1</td>\n",
       "      <td>fn65pka</td>\n",
       "      <td>vauxhall</td>\n",
       "      <td>astra</td>\n",
       "      <td>diesel</td>\n",
       "      <td>silver</td>\n",
       "      <td>hatchback</td>\n",
       "      <td>manual</td>\n",
       "      <td>2</td>\n",
       "    </tr>\n",
       "    <tr>\n",
       "      <th>4</th>\n",
       "      <td>1.000059e+09</td>\n",
       "      <td>1551464297765.jsxg0dp8</td>\n",
       "      <td>/search/bmw/4-series/manual-diesel-grey-hatchb...</td>\n",
       "      <td>2019030118</td>\n",
       "      <td>17</td>\n",
       "      <td>1</td>\n",
       "      <td>fv17vfy</td>\n",
       "      <td>bmw</td>\n",
       "      <td>4-series</td>\n",
       "      <td>diesel</td>\n",
       "      <td>grey</td>\n",
       "      <td>hatchback</td>\n",
       "      <td>manual</td>\n",
       "      <td>2</td>\n",
       "    </tr>\n",
       "  </tbody>\n",
       "</table>\n",
       "</div>"
      ],
      "text/plain": [
       "      Client ID              Session ID  \\\n",
       "0  1.000020e+09   1551548659573.la303ik   \n",
       "1  1.000020e+09   1551548659573.la303ik   \n",
       "2  1.000026e+08  1553267404527.4nell1ve   \n",
       "3  1.000026e+08  1553267404527.4nell1ve   \n",
       "4  1.000059e+09  1551464297765.jsxg0dp8   \n",
       "\n",
       "                                                Page  Hour of Day  Minute  \\\n",
       "0  /search/alfa-romeo/giulietta/manual-diesel-bla...   2019030217      43   \n",
       "1  /search/alfa-romeo/giulietta/manual-diesel-bla...   2019030217      44   \n",
       "2  /search/ford/focus/manual-petrol-white-hatchba...   2019032215      10   \n",
       "3  /search/vauxhall/astra/manual-diesel-silver-ha...   2019032215       7   \n",
       "4  /search/bmw/4-series/manual-diesel-grey-hatchb...   2019030118      17   \n",
       "\n",
       "   Users   reg_no        make      model    fuel  colour       body  \\\n",
       "0      1  st63cxf  alfa-romeo  giulietta  diesel   black  hatchback   \n",
       "1      1  st63cxf  alfa-romeo  giulietta  diesel   black  hatchback   \n",
       "2      1  bt62axz        ford      focus  petrol   white  hatchback   \n",
       "3      1  fn65pka    vauxhall      astra  diesel  silver  hatchback   \n",
       "4      1  fv17vfy         bmw   4-series  diesel    grey  hatchback   \n",
       "\n",
       "  trasmission  count  \n",
       "0      manual      2  \n",
       "1      manual      2  \n",
       "2      manual      2  \n",
       "3      manual      2  \n",
       "4      manual      2  "
      ]
     },
     "execution_count": 19,
     "metadata": {},
     "output_type": "execute_result"
    }
   ],
   "source": [
    "clean_df = pd.merge(clicks_df, filtered, on='Session ID')\n",
    "clean_df.head()"
   ]
  },
  {
   "cell_type": "code",
   "execution_count": 20,
   "metadata": {},
   "outputs": [
    {
     "name": "stdout",
     "output_type": "stream",
     "text": [
      "627667\n"
     ]
    }
   ],
   "source": [
    "clean_df.drop('count', axis=1, inplace=True)\n",
    "print(len(clean_df))"
   ]
  },
  {
   "cell_type": "code",
   "execution_count": 21,
   "metadata": {},
   "outputs": [],
   "source": [
    "clean_df.to_csv(\"../clicks_clean.csv\", index=False) #Save the cleaned data"
   ]
  },
  {
   "cell_type": "code",
   "execution_count": null,
   "metadata": {},
   "outputs": [],
   "source": []
  }
 ],
 "metadata": {
  "kernelspec": {
   "display_name": "Python 3",
   "language": "python",
   "name": "python3"
  },
  "language_info": {
   "codemirror_mode": {
    "name": "ipython",
    "version": 3
   },
   "file_extension": ".py",
   "mimetype": "text/x-python",
   "name": "python",
   "nbconvert_exporter": "python",
   "pygments_lexer": "ipython3",
   "version": "3.7.2"
  }
 },
 "nbformat": 4,
 "nbformat_minor": 2
}
