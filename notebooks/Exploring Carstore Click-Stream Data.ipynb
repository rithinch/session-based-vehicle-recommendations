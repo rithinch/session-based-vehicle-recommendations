{
 "cells": [
  {
   "cell_type": "code",
   "execution_count": 1,
   "metadata": {},
   "outputs": [],
   "source": [
    "import azureml.dataprep as dprep\n",
    "import pandas as pd\n",
    "import matplotlib.pyplot as plt"
   ]
  },
  {
   "cell_type": "code",
   "execution_count": 2,
   "metadata": {},
   "outputs": [],
   "source": [
    "clicks_df = pd.read_csv(\"../clicks_latest_raw.csv\")"
   ]
  },
  {
   "cell_type": "code",
   "execution_count": 3,
   "metadata": {},
   "outputs": [
    {
     "data": {
      "text/html": [
       "<div>\n",
       "<style scoped>\n",
       "    .dataframe tbody tr th:only-of-type {\n",
       "        vertical-align: middle;\n",
       "    }\n",
       "\n",
       "    .dataframe tbody tr th {\n",
       "        vertical-align: top;\n",
       "    }\n",
       "\n",
       "    .dataframe thead th {\n",
       "        text-align: right;\n",
       "    }\n",
       "</style>\n",
       "<table border=\"1\" class=\"dataframe\">\n",
       "  <thead>\n",
       "    <tr style=\"text-align: right;\">\n",
       "      <th></th>\n",
       "      <th>client_id</th>\n",
       "      <th>session_id</th>\n",
       "      <th>page</th>\n",
       "      <th>date</th>\n",
       "      <th>time</th>\n",
       "      <th>timeframe</th>\n",
       "      <th>reg_no</th>\n",
       "      <th>make</th>\n",
       "      <th>model</th>\n",
       "      <th>fuel</th>\n",
       "      <th>colour</th>\n",
       "      <th>body</th>\n",
       "      <th>trasmission</th>\n",
       "    </tr>\n",
       "  </thead>\n",
       "  <tbody>\n",
       "    <tr>\n",
       "      <th>0</th>\n",
       "      <td>1.000010e+09</td>\n",
       "      <td>1552164105110.tu20xgmk</td>\n",
       "      <td>/search/bmw/1-series/manual-diesel-white-hatch...</td>\n",
       "      <td>2019-03-09</td>\n",
       "      <td>20:41</td>\n",
       "      <td>1552164060</td>\n",
       "      <td>vk65kzw</td>\n",
       "      <td>bmw</td>\n",
       "      <td>1-series</td>\n",
       "      <td>diesel</td>\n",
       "      <td>white</td>\n",
       "      <td>hatchback</td>\n",
       "      <td>manual</td>\n",
       "    </tr>\n",
       "    <tr>\n",
       "      <th>1</th>\n",
       "      <td>1.000020e+09</td>\n",
       "      <td>1551548659573.la303ik</td>\n",
       "      <td>/search/alfa-romeo/giulietta/manual-diesel-bla...</td>\n",
       "      <td>2019-03-02</td>\n",
       "      <td>17:43</td>\n",
       "      <td>1551548580</td>\n",
       "      <td>st63cxf</td>\n",
       "      <td>alfa-romeo</td>\n",
       "      <td>giulietta</td>\n",
       "      <td>diesel</td>\n",
       "      <td>black</td>\n",
       "      <td>hatchback</td>\n",
       "      <td>manual</td>\n",
       "    </tr>\n",
       "    <tr>\n",
       "      <th>2</th>\n",
       "      <td>1.000020e+09</td>\n",
       "      <td>1551548659573.la303ik</td>\n",
       "      <td>/search/alfa-romeo/giulietta/manual-diesel-bla...</td>\n",
       "      <td>2019-03-02</td>\n",
       "      <td>17:44</td>\n",
       "      <td>1551548640</td>\n",
       "      <td>st63cxf</td>\n",
       "      <td>alfa-romeo</td>\n",
       "      <td>giulietta</td>\n",
       "      <td>diesel</td>\n",
       "      <td>black</td>\n",
       "      <td>hatchback</td>\n",
       "      <td>manual</td>\n",
       "    </tr>\n",
       "    <tr>\n",
       "      <th>3</th>\n",
       "      <td>1.000024e+08</td>\n",
       "      <td>1553512749300.yqecw34</td>\n",
       "      <td>/search/mini/countryman/automatic-diesel-silve...</td>\n",
       "      <td>2019-03-25</td>\n",
       "      <td>11:19</td>\n",
       "      <td>1553512740</td>\n",
       "      <td>wr14uju</td>\n",
       "      <td>mini</td>\n",
       "      <td>countryman</td>\n",
       "      <td>diesel</td>\n",
       "      <td>silver</td>\n",
       "      <td>hatchback</td>\n",
       "      <td>automatic</td>\n",
       "    </tr>\n",
       "    <tr>\n",
       "      <th>4</th>\n",
       "      <td>1.000026e+09</td>\n",
       "      <td>1551459467897.sc8ayc9g</td>\n",
       "      <td>/search/renault/megane/manual-diesel-orange-co...</td>\n",
       "      <td>2019-03-01</td>\n",
       "      <td>16:57</td>\n",
       "      <td>1551459420</td>\n",
       "      <td>hn09guj</td>\n",
       "      <td>renault</td>\n",
       "      <td>megane</td>\n",
       "      <td>diesel</td>\n",
       "      <td>orange</td>\n",
       "      <td>coupe</td>\n",
       "      <td>manual</td>\n",
       "    </tr>\n",
       "  </tbody>\n",
       "</table>\n",
       "</div>"
      ],
      "text/plain": [
       "      client_id              session_id  \\\n",
       "0  1.000010e+09  1552164105110.tu20xgmk   \n",
       "1  1.000020e+09   1551548659573.la303ik   \n",
       "2  1.000020e+09   1551548659573.la303ik   \n",
       "3  1.000024e+08   1553512749300.yqecw34   \n",
       "4  1.000026e+09  1551459467897.sc8ayc9g   \n",
       "\n",
       "                                                page        date   time  \\\n",
       "0  /search/bmw/1-series/manual-diesel-white-hatch...  2019-03-09  20:41   \n",
       "1  /search/alfa-romeo/giulietta/manual-diesel-bla...  2019-03-02  17:43   \n",
       "2  /search/alfa-romeo/giulietta/manual-diesel-bla...  2019-03-02  17:44   \n",
       "3  /search/mini/countryman/automatic-diesel-silve...  2019-03-25  11:19   \n",
       "4  /search/renault/megane/manual-diesel-orange-co...  2019-03-01  16:57   \n",
       "\n",
       "    timeframe   reg_no        make       model    fuel  colour       body  \\\n",
       "0  1552164060  vk65kzw         bmw    1-series  diesel   white  hatchback   \n",
       "1  1551548580  st63cxf  alfa-romeo   giulietta  diesel   black  hatchback   \n",
       "2  1551548640  st63cxf  alfa-romeo   giulietta  diesel   black  hatchback   \n",
       "3  1553512740  wr14uju        mini  countryman  diesel  silver  hatchback   \n",
       "4  1551459420  hn09guj     renault      megane  diesel  orange      coupe   \n",
       "\n",
       "  trasmission  \n",
       "0      manual  \n",
       "1      manual  \n",
       "2      manual  \n",
       "3   automatic  \n",
       "4      manual  "
      ]
     },
     "execution_count": 3,
     "metadata": {},
     "output_type": "execute_result"
    }
   ],
   "source": [
    "clicks_df.head()"
   ]
  },
  {
   "cell_type": "code",
   "execution_count": 4,
   "metadata": {},
   "outputs": [
    {
     "data": {
      "text/plain": [
       "1420006"
      ]
     },
     "execution_count": 4,
     "metadata": {},
     "output_type": "execute_result"
    }
   ],
   "source": [
    "len(clicks_df) #Total Clicks"
   ]
  },
  {
   "cell_type": "code",
   "execution_count": 5,
   "metadata": {},
   "outputs": [
    {
     "data": {
      "text/plain": [
       "client_id           0\n",
       "session_id          0\n",
       "page                0\n",
       "date                0\n",
       "time                0\n",
       "timeframe           0\n",
       "reg_no         306489\n",
       "make           276658\n",
       "model          276145\n",
       "fuel           306489\n",
       "colour         306489\n",
       "body           306489\n",
       "trasmission    305976\n",
       "dtype: int64"
      ]
     },
     "execution_count": 5,
     "metadata": {},
     "output_type": "execute_result"
    }
   ],
   "source": [
    "clicks_df.isna().sum() #All Null Values"
   ]
  },
  {
   "cell_type": "code",
   "execution_count": 6,
   "metadata": {},
   "outputs": [],
   "source": [
    "clicks_df = clicks_df.dropna()"
   ]
  },
  {
   "cell_type": "code",
   "execution_count": 7,
   "metadata": {},
   "outputs": [
    {
     "data": {
      "text/plain": [
       "client_id      0\n",
       "session_id     0\n",
       "page           0\n",
       "date           0\n",
       "time           0\n",
       "timeframe      0\n",
       "reg_no         0\n",
       "make           0\n",
       "model          0\n",
       "fuel           0\n",
       "colour         0\n",
       "body           0\n",
       "trasmission    0\n",
       "dtype: int64"
      ]
     },
     "execution_count": 7,
     "metadata": {},
     "output_type": "execute_result"
    }
   ],
   "source": [
    "clicks_df.isna().sum() #All Null Values"
   ]
  },
  {
   "cell_type": "code",
   "execution_count": 8,
   "metadata": {},
   "outputs": [
    {
     "name": "stdout",
     "output_type": "stream",
     "text": [
      "1113517\n"
     ]
    }
   ],
   "source": [
    "print(len(clicks_df)) #After removing null values"
   ]
  },
  {
   "cell_type": "code",
   "execution_count": 9,
   "metadata": {},
   "outputs": [
    {
     "name": "stdout",
     "output_type": "stream",
     "text": [
      "928664\n"
     ]
    },
    {
     "data": {
      "text/html": [
       "<div>\n",
       "<style scoped>\n",
       "    .dataframe tbody tr th:only-of-type {\n",
       "        vertical-align: middle;\n",
       "    }\n",
       "\n",
       "    .dataframe tbody tr th {\n",
       "        vertical-align: top;\n",
       "    }\n",
       "\n",
       "    .dataframe thead th {\n",
       "        text-align: right;\n",
       "    }\n",
       "</style>\n",
       "<table border=\"1\" class=\"dataframe\">\n",
       "  <thead>\n",
       "    <tr style=\"text-align: right;\">\n",
       "      <th></th>\n",
       "      <th>client_id</th>\n",
       "      <th>session_id</th>\n",
       "      <th>page</th>\n",
       "      <th>date</th>\n",
       "      <th>time</th>\n",
       "      <th>timeframe</th>\n",
       "      <th>reg_no</th>\n",
       "      <th>make</th>\n",
       "      <th>model</th>\n",
       "      <th>fuel</th>\n",
       "      <th>colour</th>\n",
       "      <th>body</th>\n",
       "      <th>trasmission</th>\n",
       "    </tr>\n",
       "  </thead>\n",
       "  <tbody>\n",
       "    <tr>\n",
       "      <th>0</th>\n",
       "      <td>1.000010e+09</td>\n",
       "      <td>1552164105110.tu20xgmk</td>\n",
       "      <td>/search/bmw/1-series/manual-diesel-white-hatch...</td>\n",
       "      <td>2019-03-09</td>\n",
       "      <td>20:41</td>\n",
       "      <td>1552164060</td>\n",
       "      <td>vk65kzw</td>\n",
       "      <td>bmw</td>\n",
       "      <td>1-series</td>\n",
       "      <td>diesel</td>\n",
       "      <td>white</td>\n",
       "      <td>hatchback</td>\n",
       "      <td>manual</td>\n",
       "    </tr>\n",
       "    <tr>\n",
       "      <th>1</th>\n",
       "      <td>1.000020e+09</td>\n",
       "      <td>1551548659573.la303ik</td>\n",
       "      <td>/search/alfa-romeo/giulietta/manual-diesel-bla...</td>\n",
       "      <td>2019-03-02</td>\n",
       "      <td>17:43</td>\n",
       "      <td>1551548580</td>\n",
       "      <td>st63cxf</td>\n",
       "      <td>alfa-romeo</td>\n",
       "      <td>giulietta</td>\n",
       "      <td>diesel</td>\n",
       "      <td>black</td>\n",
       "      <td>hatchback</td>\n",
       "      <td>manual</td>\n",
       "    </tr>\n",
       "    <tr>\n",
       "      <th>3</th>\n",
       "      <td>1.000024e+08</td>\n",
       "      <td>1553512749300.yqecw34</td>\n",
       "      <td>/search/mini/countryman/automatic-diesel-silve...</td>\n",
       "      <td>2019-03-25</td>\n",
       "      <td>11:19</td>\n",
       "      <td>1553512740</td>\n",
       "      <td>wr14uju</td>\n",
       "      <td>mini</td>\n",
       "      <td>countryman</td>\n",
       "      <td>diesel</td>\n",
       "      <td>silver</td>\n",
       "      <td>hatchback</td>\n",
       "      <td>automatic</td>\n",
       "    </tr>\n",
       "    <tr>\n",
       "      <th>4</th>\n",
       "      <td>1.000026e+09</td>\n",
       "      <td>1551459467897.sc8ayc9g</td>\n",
       "      <td>/search/renault/megane/manual-diesel-orange-co...</td>\n",
       "      <td>2019-03-01</td>\n",
       "      <td>16:57</td>\n",
       "      <td>1551459420</td>\n",
       "      <td>hn09guj</td>\n",
       "      <td>renault</td>\n",
       "      <td>megane</td>\n",
       "      <td>diesel</td>\n",
       "      <td>orange</td>\n",
       "      <td>coupe</td>\n",
       "      <td>manual</td>\n",
       "    </tr>\n",
       "    <tr>\n",
       "      <th>7</th>\n",
       "      <td>1.000026e+08</td>\n",
       "      <td>1553267404527.4nell1ve</td>\n",
       "      <td>/search/ford/focus/manual-petrol-white-hatchba...</td>\n",
       "      <td>2019-03-22</td>\n",
       "      <td>15:10</td>\n",
       "      <td>1553267400</td>\n",
       "      <td>bt62axz</td>\n",
       "      <td>ford</td>\n",
       "      <td>focus</td>\n",
       "      <td>petrol</td>\n",
       "      <td>white</td>\n",
       "      <td>hatchback</td>\n",
       "      <td>manual</td>\n",
       "    </tr>\n",
       "  </tbody>\n",
       "</table>\n",
       "</div>"
      ],
      "text/plain": [
       "      client_id              session_id  \\\n",
       "0  1.000010e+09  1552164105110.tu20xgmk   \n",
       "1  1.000020e+09   1551548659573.la303ik   \n",
       "3  1.000024e+08   1553512749300.yqecw34   \n",
       "4  1.000026e+09  1551459467897.sc8ayc9g   \n",
       "7  1.000026e+08  1553267404527.4nell1ve   \n",
       "\n",
       "                                                page        date   time  \\\n",
       "0  /search/bmw/1-series/manual-diesel-white-hatch...  2019-03-09  20:41   \n",
       "1  /search/alfa-romeo/giulietta/manual-diesel-bla...  2019-03-02  17:43   \n",
       "3  /search/mini/countryman/automatic-diesel-silve...  2019-03-25  11:19   \n",
       "4  /search/renault/megane/manual-diesel-orange-co...  2019-03-01  16:57   \n",
       "7  /search/ford/focus/manual-petrol-white-hatchba...  2019-03-22  15:10   \n",
       "\n",
       "    timeframe   reg_no        make       model    fuel  colour       body  \\\n",
       "0  1552164060  vk65kzw         bmw    1-series  diesel   white  hatchback   \n",
       "1  1551548580  st63cxf  alfa-romeo   giulietta  diesel   black  hatchback   \n",
       "3  1553512740  wr14uju        mini  countryman  diesel  silver  hatchback   \n",
       "4  1551459420  hn09guj     renault      megane  diesel  orange      coupe   \n",
       "7  1553267400  bt62axz        ford       focus  petrol   white  hatchback   \n",
       "\n",
       "  trasmission  \n",
       "0      manual  \n",
       "1      manual  \n",
       "3   automatic  \n",
       "4      manual  \n",
       "7      manual  "
      ]
     },
     "execution_count": 9,
     "metadata": {},
     "output_type": "execute_result"
    }
   ],
   "source": [
    "cols = [\"session_id\",\"reg_no\"]\n",
    "clicks_df = clicks_df.loc[(clicks_df[cols].shift() != clicks_df[cols]).any(axis=1)] # Remove Consecutive same clicks in session\n",
    "print(len(clicks_df)) #After removing consecutive duplicates\n",
    "clicks_df.head()"
   ]
  },
  {
   "cell_type": "code",
   "execution_count": 10,
   "metadata": {},
   "outputs": [
    {
     "data": {
      "text/plain": [
       "9450"
      ]
     },
     "execution_count": 10,
     "metadata": {},
     "output_type": "execute_result"
    }
   ],
   "source": [
    "clicks_df[\"reg_no\"].nunique() #Unique Cars Seen"
   ]
  },
  {
   "cell_type": "code",
   "execution_count": 11,
   "metadata": {},
   "outputs": [
    {
     "data": {
      "text/plain": [
       "357921"
      ]
     },
     "execution_count": 11,
     "metadata": {},
     "output_type": "execute_result"
    }
   ],
   "source": [
    "clicks_df[\"session_id\"].nunique() #Unique Sessions"
   ]
  },
  {
   "cell_type": "code",
   "execution_count": 12,
   "metadata": {},
   "outputs": [
    {
     "data": {
      "text/plain": [
       "178599"
      ]
     },
     "execution_count": 12,
     "metadata": {},
     "output_type": "execute_result"
    }
   ],
   "source": [
    "clicks_df[\"client_id\"].nunique() #Unique Users"
   ]
  },
  {
   "cell_type": "code",
   "execution_count": 13,
   "metadata": {},
   "outputs": [
    {
     "name": "stdout",
     "output_type": "stream",
     "text": [
      "                         count\n",
      "session_id                    \n",
      "1530036862520.8ld4cmufc      1\n",
      "1530037030603.3idh59yef      1\n",
      "1530038310374.n6t4wrutf      1\n",
      "1530038945304.k6me1ecja      1\n",
      "1530039224305.k12gyax0g      1\n"
     ]
    }
   ],
   "source": [
    "grouped = clicks_df.groupby('session_id')['page'].agg([\"count\"])\n",
    "print(grouped.head())"
   ]
  },
  {
   "cell_type": "code",
   "execution_count": 16,
   "metadata": {},
   "outputs": [
    {
     "name": "stdout",
     "output_type": "stream",
     "text": [
      " Sessions with greater than 1 click and less than 40 clicks = 168545\n",
      " Sessions with only 1 click or more than 40 = 189376\n"
     ]
    }
   ],
   "source": [
    "filtered = grouped.query('count>1 and count <40')\n",
    "\n",
    "x = len(filtered)\n",
    "\n",
    "print(f\" Sessions with greater than 1 click and less than 40 clicks = {x}\")\n",
    "print(f\" Sessions with only 1 click or more than 40 = {len(grouped)-x}\")"
   ]
  },
  {
   "cell_type": "code",
   "execution_count": 21,
   "metadata": {},
   "outputs": [
    {
     "name": "stdout",
     "output_type": "stream",
     "text": [
      " Total clicks after filtering = 720130\n"
     ]
    }
   ],
   "source": [
    "total_clicks = filtered['count'].sum()\n",
    "print(f\" Total clicks after filtering = {total_clicks}\")"
   ]
  },
  {
   "cell_type": "code",
   "execution_count": 22,
   "metadata": {},
   "outputs": [
    {
     "name": "stdout",
     "output_type": "stream",
     "text": [
      " Average clicks per session = 4.272627488207897\n"
     ]
    }
   ],
   "source": [
    "average_clicks = filtered['count'].mean()\n",
    "print(f\" Average clicks per session = {average_clicks}\")"
   ]
  },
  {
   "cell_type": "code",
   "execution_count": 23,
   "metadata": {},
   "outputs": [
    {
     "name": "stdout",
     "output_type": "stream",
     "text": [
      "Max clicks per session = 39\n",
      "Min clicks per session = 2\n"
     ]
    }
   ],
   "source": [
    "max_clicks = filtered['count'].max()\n",
    "min_clicks = filtered['count'].min()\n",
    "print(f\"Max clicks per session = {max_clicks}\")\n",
    "print(f\"Min clicks per session = {min_clicks}\")"
   ]
  },
  {
   "cell_type": "code",
   "execution_count": 24,
   "metadata": {},
   "outputs": [
    {
     "data": {
      "text/html": [
       "<div>\n",
       "<style scoped>\n",
       "    .dataframe tbody tr th:only-of-type {\n",
       "        vertical-align: middle;\n",
       "    }\n",
       "\n",
       "    .dataframe tbody tr th {\n",
       "        vertical-align: top;\n",
       "    }\n",
       "\n",
       "    .dataframe thead th {\n",
       "        text-align: right;\n",
       "    }\n",
       "</style>\n",
       "<table border=\"1\" class=\"dataframe\">\n",
       "  <thead>\n",
       "    <tr style=\"text-align: right;\">\n",
       "      <th></th>\n",
       "      <th>count</th>\n",
       "    </tr>\n",
       "    <tr>\n",
       "      <th>session_id</th>\n",
       "      <th></th>\n",
       "    </tr>\n",
       "  </thead>\n",
       "  <tbody>\n",
       "    <tr>\n",
       "      <th>1552176330507.d9uk230w</th>\n",
       "      <td>39</td>\n",
       "    </tr>\n",
       "    <tr>\n",
       "      <th>1554592755612.ssbj3f0o</th>\n",
       "      <td>39</td>\n",
       "    </tr>\n",
       "    <tr>\n",
       "      <th>1551823123703.larwguhn</th>\n",
       "      <td>39</td>\n",
       "    </tr>\n",
       "    <tr>\n",
       "      <th>1554379135940.udzoux3u6</th>\n",
       "      <td>39</td>\n",
       "    </tr>\n",
       "    <tr>\n",
       "      <th>1554414334128.n65a1xyc</th>\n",
       "      <td>39</td>\n",
       "    </tr>\n",
       "  </tbody>\n",
       "</table>\n",
       "</div>"
      ],
      "text/plain": [
       "                         count\n",
       "session_id                    \n",
       "1552176330507.d9uk230w      39\n",
       "1554592755612.ssbj3f0o      39\n",
       "1551823123703.larwguhn      39\n",
       "1554379135940.udzoux3u6     39\n",
       "1554414334128.n65a1xyc      39"
      ]
     },
     "execution_count": 24,
     "metadata": {},
     "output_type": "execute_result"
    }
   ],
   "source": [
    "filtered.sort_values(by='count', ascending=False).head()"
   ]
  },
  {
   "cell_type": "code",
   "execution_count": 25,
   "metadata": {},
   "outputs": [
    {
     "data": {
      "text/plain": [
       "<matplotlib.axes._subplots.AxesSubplot at 0x123507898>"
      ]
     },
     "execution_count": 25,
     "metadata": {},
     "output_type": "execute_result"
    },
    {
     "data": {
      "image/png": "[encoded data removed]",
      "text/plain": [
       "<Figure size 432x288 with 1 Axes>"
      ]
     },
     "metadata": {
      "needs_background": "light"
     },
     "output_type": "display_data"
    }
   ],
   "source": [
    "filtered.plot.hist(bins=15, alpha=0.5) #Clicks per session frequency"
   ]
  },
  {
   "cell_type": "code",
   "execution_count": 26,
   "metadata": {},
   "outputs": [
    {
     "data": {
      "text/html": [
       "<div>\n",
       "<style scoped>\n",
       "    .dataframe tbody tr th:only-of-type {\n",
       "        vertical-align: middle;\n",
       "    }\n",
       "\n",
       "    .dataframe tbody tr th {\n",
       "        vertical-align: top;\n",
       "    }\n",
       "\n",
       "    .dataframe thead th {\n",
       "        text-align: right;\n",
       "    }\n",
       "</style>\n",
       "<table border=\"1\" class=\"dataframe\">\n",
       "  <thead>\n",
       "    <tr style=\"text-align: right;\">\n",
       "      <th></th>\n",
       "      <th>client_id</th>\n",
       "      <th>session_id</th>\n",
       "      <th>page</th>\n",
       "      <th>date</th>\n",
       "      <th>time</th>\n",
       "      <th>timeframe</th>\n",
       "      <th>reg_no</th>\n",
       "      <th>make</th>\n",
       "      <th>model</th>\n",
       "      <th>fuel</th>\n",
       "      <th>colour</th>\n",
       "      <th>body</th>\n",
       "      <th>trasmission</th>\n",
       "      <th>count</th>\n",
       "    </tr>\n",
       "  </thead>\n",
       "  <tbody>\n",
       "    <tr>\n",
       "      <th>0</th>\n",
       "      <td>1.000026e+08</td>\n",
       "      <td>1553267404527.4nell1ve</td>\n",
       "      <td>/search/ford/focus/manual-petrol-white-hatchba...</td>\n",
       "      <td>2019-03-22</td>\n",
       "      <td>15:10</td>\n",
       "      <td>1553267400</td>\n",
       "      <td>bt62axz</td>\n",
       "      <td>ford</td>\n",
       "      <td>focus</td>\n",
       "      <td>petrol</td>\n",
       "      <td>white</td>\n",
       "      <td>hatchback</td>\n",
       "      <td>manual</td>\n",
       "      <td>2</td>\n",
       "    </tr>\n",
       "    <tr>\n",
       "      <th>1</th>\n",
       "      <td>1.000026e+08</td>\n",
       "      <td>1553267404527.4nell1ve</td>\n",
       "      <td>/search/vauxhall/astra/manual-diesel-silver-ha...</td>\n",
       "      <td>2019-03-22</td>\n",
       "      <td>15:7</td>\n",
       "      <td>1553267220</td>\n",
       "      <td>fn65pka</td>\n",
       "      <td>vauxhall</td>\n",
       "      <td>astra</td>\n",
       "      <td>diesel</td>\n",
       "      <td>silver</td>\n",
       "      <td>hatchback</td>\n",
       "      <td>manual</td>\n",
       "      <td>2</td>\n",
       "    </tr>\n",
       "    <tr>\n",
       "      <th>2</th>\n",
       "      <td>1.000059e+09</td>\n",
       "      <td>1551464297765.jsxg0dp8</td>\n",
       "      <td>/search/bmw/4-series/manual-diesel-grey-hatchb...</td>\n",
       "      <td>2019-03-01</td>\n",
       "      <td>18:17</td>\n",
       "      <td>1551464220</td>\n",
       "      <td>fv17vfy</td>\n",
       "      <td>bmw</td>\n",
       "      <td>4-series</td>\n",
       "      <td>diesel</td>\n",
       "      <td>grey</td>\n",
       "      <td>hatchback</td>\n",
       "      <td>manual</td>\n",
       "      <td>2</td>\n",
       "    </tr>\n",
       "    <tr>\n",
       "      <th>3</th>\n",
       "      <td>1.000059e+09</td>\n",
       "      <td>1551464297765.jsxg0dp8</td>\n",
       "      <td>/search/jaguar/xf/automatic-petrol-grey-saloon...</td>\n",
       "      <td>2019-03-01</td>\n",
       "      <td>18:18</td>\n",
       "      <td>1551464280</td>\n",
       "      <td>na17wjf</td>\n",
       "      <td>jaguar</td>\n",
       "      <td>xf</td>\n",
       "      <td>petrol</td>\n",
       "      <td>grey</td>\n",
       "      <td>saloon</td>\n",
       "      <td>automatic</td>\n",
       "      <td>2</td>\n",
       "    </tr>\n",
       "    <tr>\n",
       "      <th>4</th>\n",
       "      <td>1.000059e+09</td>\n",
       "      <td>1551473993887.u4ef7aq</td>\n",
       "      <td>/search/bmw/4-series/manual-diesel-grey-hatchb...</td>\n",
       "      <td>2019-03-01</td>\n",
       "      <td>20:47</td>\n",
       "      <td>1551473220</td>\n",
       "      <td>fv17vfy</td>\n",
       "      <td>bmw</td>\n",
       "      <td>4-series</td>\n",
       "      <td>diesel</td>\n",
       "      <td>grey</td>\n",
       "      <td>hatchback</td>\n",
       "      <td>manual</td>\n",
       "      <td>5</td>\n",
       "    </tr>\n",
       "  </tbody>\n",
       "</table>\n",
       "</div>"
      ],
      "text/plain": [
       "      client_id              session_id  \\\n",
       "0  1.000026e+08  1553267404527.4nell1ve   \n",
       "1  1.000026e+08  1553267404527.4nell1ve   \n",
       "2  1.000059e+09  1551464297765.jsxg0dp8   \n",
       "3  1.000059e+09  1551464297765.jsxg0dp8   \n",
       "4  1.000059e+09   1551473993887.u4ef7aq   \n",
       "\n",
       "                                                page        date   time  \\\n",
       "0  /search/ford/focus/manual-petrol-white-hatchba...  2019-03-22  15:10   \n",
       "1  /search/vauxhall/astra/manual-diesel-silver-ha...  2019-03-22   15:7   \n",
       "2  /search/bmw/4-series/manual-diesel-grey-hatchb...  2019-03-01  18:17   \n",
       "3  /search/jaguar/xf/automatic-petrol-grey-saloon...  2019-03-01  18:18   \n",
       "4  /search/bmw/4-series/manual-diesel-grey-hatchb...  2019-03-01  20:47   \n",
       "\n",
       "    timeframe   reg_no      make     model    fuel  colour       body  \\\n",
       "0  1553267400  bt62axz      ford     focus  petrol   white  hatchback   \n",
       "1  1553267220  fn65pka  vauxhall     astra  diesel  silver  hatchback   \n",
       "2  1551464220  fv17vfy       bmw  4-series  diesel    grey  hatchback   \n",
       "3  1551464280  na17wjf    jaguar        xf  petrol    grey     saloon   \n",
       "4  1551473220  fv17vfy       bmw  4-series  diesel    grey  hatchback   \n",
       "\n",
       "  trasmission  count  \n",
       "0      manual      2  \n",
       "1      manual      2  \n",
       "2      manual      2  \n",
       "3   automatic      2  \n",
       "4      manual      5  "
      ]
     },
     "execution_count": 26,
     "metadata": {},
     "output_type": "execute_result"
    }
   ],
   "source": [
    "clean_df = pd.merge(clicks_df, filtered, on='session_id')\n",
    "clean_df.head()"
   ]
  },
  {
   "cell_type": "code",
   "execution_count": 27,
   "metadata": {},
   "outputs": [
    {
     "name": "stdout",
     "output_type": "stream",
     "text": [
      "720130\n"
     ]
    }
   ],
   "source": [
    "clean_df.drop('count', axis=1, inplace=True)\n",
    "print(len(clean_df))"
   ]
  },
  {
   "cell_type": "code",
   "execution_count": 28,
   "metadata": {},
   "outputs": [],
   "source": [
    "clean_df.to_csv(\"../clicks_clean.csv\", index=False) #Save the cleaned data"
   ]
  },
  {
   "cell_type": "code",
   "execution_count": null,
   "metadata": {},
   "outputs": [],
   "source": []
  }
 ],
 "metadata": {
  "kernelspec": {
   "display_name": "Python 3",
   "language": "python",
   "name": "python3"
  },
  "language_info": {
   "codemirror_mode": {
    "name": "ipython",
    "version": 3
   },
   "file_extension": ".py",
   "mimetype": "text/x-python",
   "name": "python",
   "nbconvert_exporter": "python",
   "pygments_lexer": "ipython3",
   "version": "3.7.2"
  }
 },
 "nbformat": 4,
 "nbformat_minor": 2
}
