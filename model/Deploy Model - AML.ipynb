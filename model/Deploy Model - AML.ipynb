{
 "cells": [
  {
   "cell_type": "markdown",
   "metadata": {},
   "source": [
    "### Deploy Trained Model - Azure Machine Learning Service"
   ]
  },
  {
   "cell_type": "code",
   "execution_count": 47,
   "metadata": {},
   "outputs": [],
   "source": [
    "import azureml\n",
    "from azureml.core import Workspace, Run"
   ]
  },
  {
   "cell_type": "code",
   "execution_count": 48,
   "metadata": {},
   "outputs": [
    {
     "name": "stdout",
     "output_type": "stream",
     "text": [
      "Found the config file in: /Users/Rithin/Desktop/Projects/session-based-vehicle-recommendations/model/config.json\n"
     ]
    }
   ],
   "source": [
    "ws = Workspace.from_config()"
   ]
  },
  {
   "cell_type": "code",
   "execution_count": 49,
   "metadata": {},
   "outputs": [],
   "source": [
    "output_folder = \"outputs\"\n",
    "model_name = \"vehicle_recommendations_model\"\n",
    "item_mapping_name = f'{model_name}_item_veh_mapping'\n",
    "veh_mapping_name = f'{model_name}_veh_item_mapping'"
   ]
  },
  {
   "cell_type": "code",
   "execution_count": 8,
   "metadata": {},
   "outputs": [
    {
     "name": "stdout",
     "output_type": "stream",
     "text": [
      "Registering model vehicle_recommendations_model\n",
      "Registering model item_to_veh_mappings\n",
      "Registering model veh_to_item_mappings\n"
     ]
    }
   ],
   "source": [
    "from azureml.core.model import Model\n",
    "\n",
    "model_gnn = Model.register(model_path=f'{output_folder}/{model_name}.pt',\n",
    "                        model_name=model_name,\n",
    "                        tags={\"data\": \"vehicle_clicks\", \"model\": \"recommendation\"},\n",
    "                        description=\"Session Based Vehicle Recommendations using GNN\",\n",
    "                        workspace=ws)\n",
    "\n",
    "model_item_mappings = Model.register(model_path=f'{output_folder}/{item_mapping_name}.dat',\n",
    "                        model_name='item_to_veh_mappings',\n",
    "                        tags={\"data\": \"vehicle_clicks\", \"model\": \"recommendation\", \"model_name\":model_name},\n",
    "                        description=f'Item to Vehicle Mappings for model {model_name}',\n",
    "                        workspace=ws)\n",
    "\n",
    "model_veh_mappings = Model.register(model_path=f'{output_folder}/{veh_mapping_name}.dat',\n",
    "                        model_name='veh_to_item_mappings',\n",
    "                        tags={\"data\": \"vehicle_clicks\", \"model\": \"recommendation\", \"model_name\":model_name},\n",
    "                        description=f'Vehicle to Item Mappings for model {model_name}',\n",
    "                        workspace=ws)"
   ]
  },
  {
   "cell_type": "markdown",
   "metadata": {},
   "source": [
    "### Create Environment File"
   ]
  },
  {
   "cell_type": "code",
   "execution_count": 50,
   "metadata": {},
   "outputs": [],
   "source": [
    "from azureml.core.conda_dependencies import CondaDependencies \n",
    "\n",
    "myenv = CondaDependencies()\n",
    "myenv.add_pip_package(\"torch\")\n",
    "\n",
    "with open(\"myenv.yml\",\"w\") as f:\n",
    "    f.write(myenv.serialize_to_string())\n"
   ]
  },
  {
   "cell_type": "markdown",
   "metadata": {},
   "source": [
    "### Create Congifuration File"
   ]
  },
  {
   "cell_type": "code",
   "execution_count": 51,
   "metadata": {},
   "outputs": [],
   "source": [
    "from azureml.core.webservice import AciWebservice\n",
    "\n",
    "aciconfig = AciWebservice.deploy_configuration(cpu_cores=1, \n",
    "                                               memory_gb=1, \n",
    "                                               tags={\"data\": \"Vehicle_Recommendations\",  \"method\" : \"GNN\"}, \n",
    "                                               description='Session based vehicle recommendations using GNN')"
   ]
  },
  {
   "cell_type": "code",
   "execution_count": 52,
   "metadata": {},
   "outputs": [],
   "source": [
    "model1=Model(ws, 'vehicle_recommendations_model')\n",
    "model2=Model(ws, 'item_to_veh_mappings')\n",
    "model3=Model(ws, 'veh_to_item_mappings')"
   ]
  },
  {
   "cell_type": "code",
   "execution_count": 53,
   "metadata": {},
   "outputs": [
    {
     "name": "stdout",
     "output_type": "stream",
     "text": [
      "Creating image\n",
      "Image creation operation finished for image veh-recommendations-init:4, operation \"Succeeded\"\n",
      "Creating service\n",
      "CPU times: user 1.3 s, sys: 102 ms, total: 1.4 s\n",
      "Wall time: 3min 33s\n"
     ]
    }
   ],
   "source": [
    "%%time\n",
    "from azureml.core.webservice import Webservice\n",
    "from azureml.core.image import ContainerImage\n",
    "\n",
    "# configure the image\n",
    "image_config = ContainerImage.image_configuration(execution_script=\"score.py\", \n",
    "                                                  runtime=\"python\", \n",
    "                                                  conda_file=\"myenv.yml\")\n",
    "\n",
    "service = Webservice.deploy_from_model(workspace=ws,\n",
    "                                       name='veh-recommendations-init',\n",
    "                                       deployment_config=aciconfig,\n",
    "                                       models=[model1, model2, model3],\n",
    "                                       image_config=image_config)\n",
    "\n",
    "#service.wait_for_deployment(show_output=True)"
   ]
  },
  {
   "cell_type": "code",
   "execution_count": null,
   "metadata": {},
   "outputs": [],
   "source": [
    "print(service.scoring_uri)"
   ]
  }
 ],
 "metadata": {
  "kernelspec": {
   "display_name": "Python 3",
   "language": "python",
   "name": "python3"
  },
  "language_info": {
   "codemirror_mode": {
    "name": "ipython",
    "version": 3
   },
   "file_extension": ".py",
   "mimetype": "text/x-python",
   "name": "python",
   "nbconvert_exporter": "python",
   "pygments_lexer": "ipython3",
   "version": "3.7.2"
  }
 },
 "nbformat": 4,
 "nbformat_minor": 2
}
